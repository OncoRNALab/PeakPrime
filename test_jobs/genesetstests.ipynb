{
 "cells": [
  {
   "cell_type": "code",
   "execution_count": null,
   "id": "241facbf",
   "metadata": {},
   "outputs": [],
   "source": []
  },
  {
   "cell_type": "markdown",
   "id": "727464b9",
   "metadata": {},
   "source": [
    "## Cheking overlaps between sets of primers"
   ]
  },
  {
   "cell_type": "code",
   "execution_count": 24,
   "id": "b3b3dd3b",
   "metadata": {},
   "outputs": [],
   "source": [
    "#Auto\n",
    "auto_file1=\"/user/gent/446/vsc44685/ScratchVO_dir/OncoRNA_peakprime/Primer_PeakFindR/results/IMR32_peak1_auto/genes_with_overlap.txt\"\n",
    "auto_file2=\"/user/gent/446/vsc44685/ScratchVO_dir/OncoRNA_peakprime/Primer_PeakFindR/results/IMR32_peak2_auto/genes_with_overlap.txt\"\n",
    "auto_file3=\"/user/gent/446/vsc44685/ScratchVO_dir/OncoRNA_peakprime/Primer_PeakFindR/results/IMR32_peak3_auto/genes_with_overlap.txt\"\n",
    "auto_file4=\"/user/gent/446/vsc44685/ScratchVO_dir/OncoRNA_peakprime/Primer_PeakFindR/results/IMR32_peak4_auto/genes_with_overlap.txt\"\n",
    "\n",
    "#Shift\n",
    "shift_file1=\"/user/gent/446/vsc44685/ScratchVO_dir/OncoRNA_peakprime/Primer_PeakFindR/results/IMR32_peak1_shift25/genes_with_overlap.txt\"\n",
    "shift_file2=\"/user/gent/446/vsc44685/ScratchVO_dir/OncoRNA_peakprime/Primer_PeakFindR/results/IMR32_peak2_shift25/genes_with_overlap.txt\"\n",
    "shift_file3=\"/user/gent/446/vsc44685/ScratchVO_dir/OncoRNA_peakprime/Primer_PeakFindR/results/IMR32_peak3_shift25/genes_with_overlap.txt\"\n",
    "shift_file4=\"/user/gent/446/vsc44685/ScratchVO_dir/OncoRNA_peakprime/Primer_PeakFindR/results/IMR32_peak4_shift25/genes_with_overlap.txt\""
   ]
  },
  {
   "cell_type": "code",
   "execution_count": 28,
   "id": "34da5ea6",
   "metadata": {},
   "outputs": [],
   "source": [
    "with open(auto_file1) as f1, open(auto_file2) as f2, open(auto_file3) as f3, open(auto_file4) as f4:\n",
    "    genes1 = set(line.strip() for line in f1)\n",
    "    genes2 = set(line.strip() for line in f2)\n",
    "    genes3 = set(line.strip() for line in f3)\n",
    "    genes4 = set(line.strip() for line in f4)\n",
    "\n",
    "with open(shift_file1) as f1, open(shift_file2) as f2, open(shift_file3) as f3, open(shift_file4) as f4:\n",
    "    genes5 = set(line.strip() for line in f1)\n",
    "    genes6 = set(line.strip() for line in f2)\n",
    "    genes7 = set(line.strip() for line in f3)\n",
    "    genes8 = set(line.strip() for line in f4)"
   ]
  },
  {
   "cell_type": "code",
   "execution_count": 29,
   "id": "890c464e",
   "metadata": {},
   "outputs": [
    {
     "name": "stdout",
     "output_type": "stream",
     "text": [
      "47\n",
      "62\n",
      "70\n"
     ]
    }
   ],
   "source": [
    "print(len(genes1.union(genes2)))\n",
    "print(len(genes1.union(genes2).union(genes3).union(genes4)))\n",
    "print(len(genes5.union(genes6).union(genes7).union(genes8)))"
   ]
  },
  {
   "cell_type": "code",
   "execution_count": 30,
   "id": "4b2e2f8e",
   "metadata": {},
   "outputs": [],
   "source": [
    "auto_genes = genes1.union(genes2).union(genes3).union(genes4)\n",
    "shift_genes = genes5.union(genes6).union(genes7).union(genes8)"
   ]
  },
  {
   "cell_type": "code",
   "execution_count": 31,
   "id": "52f03cbf",
   "metadata": {},
   "outputs": [
    {
     "data": {
      "text/plain": [
       "{'ENSG00000140988', 'ENSG00000172809', 'ENSG00000196262'}"
      ]
     },
     "execution_count": 31,
     "metadata": {},
     "output_type": "execute_result"
    }
   ],
   "source": [
    "auto_genes-shift_genes"
   ]
  }
 ],
 "metadata": {
  "kernelspec": {
   "display_name": "general",
   "language": "python",
   "name": "python3"
  },
  "language_info": {
   "codemirror_mode": {
    "name": "ipython",
    "version": 3
   },
   "file_extension": ".py",
   "mimetype": "text/x-python",
   "name": "python",
   "nbconvert_exporter": "python",
   "pygments_lexer": "ipython3",
   "version": "3.12.3"
  }
 },
 "nbformat": 4,
 "nbformat_minor": 5
}
