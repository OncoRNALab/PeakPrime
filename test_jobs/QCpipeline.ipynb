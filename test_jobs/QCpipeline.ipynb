{
 "cells": [
  {
   "cell_type": "code",
   "execution_count": 2,
   "id": "dd22590b",
   "metadata": {},
   "outputs": [
    {
     "name": "stdout",
     "output_type": "stream",
     "text": [
      "Peak is outside gene\n"
     ]
    }
   ],
   "source": [
    "gene_start=149884459\t\t\n",
    "gene_end=149886682\n",
    "peak_start=149887210\n",
    "peak_end=149887292\n",
    "\n",
    "if (gene_start < peak_start and gene_end > peak_end):\n",
    "    print(\"Peak is within gene\")\n",
    "else:\n",
    "    print(\"Peak is outside gene\")"
   ]
  },
  {
   "cell_type": "code",
   "execution_count": null,
   "id": "1dce4b22",
   "metadata": {},
   "outputs": [],
   "source": [
    "gene_start=149884459\t\t\n",
    "gene_end=149886682\n",
    "peak_start=149887210\n",
    "peak_end=149887292\n",
    "\n",
    "if (gene_start < peak_start and gene_end > peak_end):\n",
    "    print(\"Peak is within gene\")\n",
    "else:\n",
    "    print(\"Peak is outside gene\")"
   ]
  },
  {
   "cell_type": "markdown",
   "id": "4c0ac563",
   "metadata": {},
   "source": [
    "{\"context\":\"the pipeline selects peaks if the peak overlaps a target gene\",\n",
    "\"issue\":\"the pipeline do not select all called peaks even if it overlaps the gene\",\n",
    "\"example\":{\n",
    "    \"outputdir\":\"results/macs2_class4\",\n",
    "    \"gene\":\"\"\n",
    "}}\n",
    "\n",
    "{\n",
    "\"tasks\":{\"task1\":\"check the results for gene ENSG00000187764 in the outputdir\",\n",
    "\"task2\":\"provide a summary of the exons and the peak coordinates that explain how the exonic fraction is computed, specifically explain why the peak RNA021484_1Aligned_peak_140904 do not overlap with the gene exons\"}\n",
    "\"outputdir\":\"results/RNA021484_nopeaks_q0.1\"\n",
    "}\n"
   ]
  },
  {
   "cell_type": "markdown",
   "id": "2259dc01",
   "metadata": {},
   "source": []
  },
  {
   "cell_type": "code",
   "execution_count": null,
   "id": "d4ab8943",
   "metadata": {},
   "outputs": [
    {
     "name": "stdout",
     "output_type": "stream",
     "text": [
      "Results for gene ENSG00000187764:\n",
      "           gene_id  gene_chr  gene_start  gene_end gene_strand  peak_chr  peak_start    peak_end peak_strand  has_macs2_peaks  has_significant_peaks  has_overlapping_peaks  is_best_peak  passes_exonic_filter  final_selection                        failure_reason  peak_count_raw  peak_count_significant  peak_count_overlapping  best_peak_score  best_peak_pvalue  best_peak_qvalue  exonic_fraction\n",
      "1  ENSG00000187764         9    89360787  89498130           -       9.0  89367013.0  89367102.0           *             True                   True                   True          True                 False            False  Failed exonic fraction filter (<0.1)               5                       5                       5             28.0           5.88149           2.80008              0.0\n",
      "\n",
      "Columns available:\n",
      "['gene_id', 'gene_chr', 'gene_start', 'gene_end', 'gene_strand', 'peak_chr', 'peak_start', 'peak_end', 'peak_strand', 'has_macs2_peaks', 'has_significant_peaks', 'has_overlapping_peaks', 'is_best_peak', 'passes_exonic_filter', 'final_selection', 'failure_reason', 'peak_count_raw', 'peak_count_significant', 'peak_count_overlapping', 'best_peak_score', 'best_peak_pvalue', 'best_peak_qvalue', 'exonic_fraction']\n"
     ]
    }
   ],
   "source": [
    "import pandas as pd\n",
    "import numpy as np\n",
    "\n",
    "# Load the QC summary to check results for gene ENSG00000187764\n",
    "qc_summary_path = \"/user/gent/446/vsc44685/ScratchVO_dir/OncoRNA_peakprime/Primer_PeakFindR/results/RNA021484_nopeaks_q0.1/processed_peaks/peaks_qc_summary.tsv\"\n",
    "qc_df = pd.read_csv(qc_summary_path, sep='\\t')\n",
    "\n",
    "# Filter for the specific gene\n",
    "target_gene = \"ENSG00000187764\"\n",
    "gene_result = qc_df[qc_df['gene_id'] == target_gene]\n",
    "\n",
    "print(f\"Results for gene {target_gene}:\")\n",
    "print(gene_result.to_string())\n",
    "print(\"\\nColumns available:\")\n",
    "print(qc_df.columns.tolist())"
   ]
  },
  {
   "cell_type": "markdown",
   "id": "db65f350",
   "metadata": {},
   "source": [
    "## Analysis of Gene ENSG00000187764 Results\n",
    "\n",
    "**Key Findings:**\n",
    "- **Gene Location**: Chr 9: 89,360,787 - 89,498,130 (negative strand)\n",
    "- **Selected Peak**: Chr 9: 89,367,013 - 89,367,102 \n",
    "- **Peak Score**: 28.0 (good quality)\n",
    "- **Problem**: **Exonic fraction = 0.0** (peak has NO overlap with exons)\n",
    "- **Filter Threshold**: Requires ≥ 0.1 (10% exonic overlap)\n",
    "- **Result**: Peak failed exonic fraction filter\n",
    "\n",
    "**Why it failed**: The peak RNA021484_1Aligned_peak_140904 has 0% exonic overlap, meaning it falls entirely in intronic regions!"
   ]
  },
  {
   "cell_type": "code",
   "execution_count": null,
   "id": "c1d9d375",
   "metadata": {},
   "outputs": [],
   "source": [
    "# Let's examine the gene and peak in detail\n",
    "gene_id = \"ENSG00000187764\"\n",
    "gene_name = \"PCSK5\"\n",
    "\n",
    "# Gene coordinates (from results)\n",
    "gene_start = 89360787\n",
    "gene_end = 89498130\n",
    "gene_chr = \"chr9\"\n",
    "gene_strand = \"-\"  # negative strand\n",
    "\n",
    "# Peak coordinates\n",
    "peak_start = 89367013  \n",
    "peak_end = 89367102\n",
    "peak_chr = \"chr9\"\n",
    "\n",
    "print(f\"Gene: {gene_name} ({gene_id})\")\n",
    "print(f\"Gene location: {gene_chr}:{gene_start:,}-{gene_end:,} ({gene_strand} strand)\")\n",
    "print(f\"Gene length: {gene_end - gene_start:,} bp\")\n",
    "print()\n",
    "print(f\"Peak location: {peak_chr}:{peak_start:,}-{peak_end:,}\")\n",
    "print(f\"Peak length: {peak_end - peak_start + 1} bp\")\n",
    "print()\n",
    "\n",
    "# Check if peak is within gene boundaries\n",
    "peak_within_gene = (peak_start >= gene_start) and (peak_end <= gene_end)\n",
    "print(f\"Peak within gene boundaries: {peak_within_gene}\")\n",
    "\n",
    "if peak_within_gene:\n",
    "    # Calculate position relative to gene\n",
    "    rel_start = peak_start - gene_start\n",
    "    rel_end = peak_end - gene_start\n",
    "    percent_into_gene = (rel_start / (gene_end - gene_start)) * 100\n",
    "    \n",
    "    print(f\"Peak relative position: {rel_start:,}-{rel_end:,} bp from gene start\")\n",
    "    print(f\"Peak is {percent_into_gene:.1f}% into the gene\")\n",
    "    print()\n",
    "    print(\"🔍 The peak is WITHIN the gene but has 0% exonic overlap\")\n",
    "    print(\"   This means the peak falls entirely in INTRONIC regions!\")\n",
    "else:\n",
    "    print(\"❌ Peak is outside gene boundaries\")"
   ]
  }
 ],
 "metadata": {
  "kernelspec": {
   "display_name": "general",
   "language": "python",
   "name": "python3"
  },
  "language_info": {
   "codemirror_mode": {
    "name": "ipython",
    "version": 3
   },
   "file_extension": ".py",
   "mimetype": "text/x-python",
   "name": "python",
   "nbconvert_exporter": "python",
   "pygments_lexer": "ipython3",
   "version": "3.12.3"
  }
 },
 "nbformat": 4,
 "nbformat_minor": 5
}
